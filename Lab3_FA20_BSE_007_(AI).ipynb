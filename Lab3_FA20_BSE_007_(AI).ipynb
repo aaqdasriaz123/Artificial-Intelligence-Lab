{
  "nbformat": 4,
  "nbformat_minor": 0,
  "metadata": {
    "colab": {
      "provenance": []
    },
    "kernelspec": {
      "name": "python3",
      "display_name": "Python 3"
    },
    "language_info": {
      "name": "python"
    }
  },
  "cells": [
    {
      "cell_type": "code",
      "execution_count": 4,
      "metadata": {
        "colab": {
          "base_uri": "https://localhost:8080/"
        },
        "id": "AYUas_T95skP",
        "outputId": "204d3033-363f-4236-81c9-71954fa9bd0c"
      },
      "outputs": [
        {
          "output_type": "stream",
          "name": "stdout",
          "text": [
            "Hello World!\n",
            "7\n",
            "2345\n",
            "2090\n",
            "Python\n"
          ]
        }
      ],
      "source": [
        "print('Hello World!')\n",
        "a=7\n",
        "print(a)\n",
        "\n",
        "print(2345)\n",
        "\n",
        "print (\"2090\")\n",
        "\n",
        "a = 100\n",
        "#print(a)\n",
        "\n",
        "b = \"Python\"\n",
        "print(b)"
      ]
    },
    {
      "cell_type": "code",
      "source": [
        "'''It's a course\n",
        "named\n",
        "\"python\"\n",
        "\n",
        "hf'''\n",
        "print(6)"
      ],
      "metadata": {
        "colab": {
          "base_uri": "https://localhost:8080/"
        },
        "id": "kjTGY_9S7zFw",
        "outputId": "1c2d31d2-9d81-4940-aacc-71c2d2a9fe81"
      },
      "execution_count": 7,
      "outputs": [
        {
          "output_type": "stream",
          "name": "stdout",
          "text": [
            "6\n"
          ]
        }
      ]
    },
    {
      "cell_type": "code",
      "source": [
        "print(\"Let's learn about comments.\")\n",
        "# print(it is a single line comment)\n",
        "print(\"Icode\")\n",
        "\n"
      ],
      "metadata": {
        "colab": {
          "base_uri": "https://localhost:8080/"
        },
        "id": "BJX1wz9u8iYF",
        "outputId": "1137ebe1-8bbd-4020-fdc5-c17cf2abddf6"
      },
      "execution_count": 8,
      "outputs": [
        {
          "output_type": "stream",
          "name": "stdout",
          "text": [
            "Let's learn about comments.\n",
            "Icode\n"
          ]
        }
      ]
    },
    {
      "cell_type": "code",
      "source": [
        "print(\"\"\"Multi-line String\"\"\")\n",
        "'''for multi-line comment, you can use # with every line or\n",
        "simply use triple inverted commas(multi-line string).\n",
        "ar\n",
        "sar\n",
        "ahghjj \n",
        "'''\n",
        "#single line\n",
        "print(\"My name is ayesha. I'm a student at university.I'm a good student.\")"
      ],
      "metadata": {
        "id": "0KidAILq9xrF"
      },
      "execution_count": null,
      "outputs": []
    },
    {
      "cell_type": "code",
      "source": [
        "a = \"a variable\"\n",
        "is = \"won't allow a variable\"\n",
        "print(a)\n",
        "print(is)\n"
      ],
      "metadata": {
        "id": "5UWszcSn-gAd"
      },
      "execution_count": null,
      "outputs": []
    },
    {
      "cell_type": "code",
      "source": [],
      "metadata": {
        "id": "WcdVO-aF_Pas"
      },
      "execution_count": null,
      "outputs": []
    },
    {
      "cell_type": "code",
      "source": [
        "x = 5 \n",
        "y = 10.3\n",
        "print('x')\n",
        "print(y)\n",
        "print(x,y)\n",
        "\n",
        "\n",
        "a = \"Icode\"\n",
        "b = 'Guru,'\n",
        "print(a,b)\n",
        "print(a,',',b)   #Shortcut ctrl + /\n",
        "\n",
        "myvariable = \"Python\"\n",
        "print(\"myvariable\")"
      ],
      "metadata": {
        "id": "7O6mMBlRHPIj"
      },
      "execution_count": null,
      "outputs": []
    },
    {
      "cell_type": "code",
      "source": [
        "_myVar5 = \"iCodeGuru\"\n",
        "myVariableName = 95                 \n",
        "MyVariableName = 'Pakistan'         \n",
        "myVariableName = 88.5 \n",
        "print(myVariableName) "
      ],
      "metadata": {
        "id": "TDfhRzI4HeBK"
      },
      "execution_count": null,
      "outputs": []
    },
    {
      "cell_type": "code",
      "source": [
        "a = 10\n",
        "a = 5\n",
        "print(a)\n",
        "\n",
        "camelCase = 100\n",
        "snake_case = 5.9\n",
        "PascalCase = \"Python\""
      ],
      "metadata": {
        "id": "kCe0Vhd-HlG7"
      },
      "execution_count": null,
      "outputs": []
    },
    {
      "cell_type": "code",
      "source": [
        "x, y, z = \"Orange\", 5, \"Apple\"\n",
        "print(x)\n",
        "print(y)\n",
        "print(z)\n",
        "a , b = 5 , 8\n",
        "print(a)\n",
        "print(b)"
      ],
      "metadata": {
        "id": "RSSxPao1HuHk"
      },
      "execution_count": null,
      "outputs": []
    },
    {
      "cell_type": "code",
      "source": [
        "x = y = z = \"Orange\"\n",
        "print(x)\n",
        "print(y)\n",
        "print(z)\n",
        "a = b = c = 1\n",
        "print(a)\n",
        "print(b)\n",
        "print(c)\n",
        "\n",
        "b = 2\n",
        "print(b)\n",
        "\n",
        "#b = 45\n",
        "print(b)\n",
        "\n",
        "x , y, z , a = 5 , 6, 7  , 8\n",
        "print(x)\n",
        "print(y)\n",
        "print(z)"
      ],
      "metadata": {
        "id": "gHRNERlVHyl0"
      },
      "execution_count": null,
      "outputs": []
    },
    {
      "cell_type": "code",
      "source": [
        "x = 5\n",
        "y = 5\n",
        "x = 10\n",
        "print(x)\n",
        "print(y)\n",
        "print(id(x))\n",
        "print(id(y))\n",
        "\n",
        "\n",
        "x = \"Hello\"\n",
        "print(id(x))\n",
        "y = \"Hello1\"\n",
        "print(id(y))"
      ],
      "metadata": {
        "id": "mO5ajYM-IIK6"
      },
      "execution_count": null,
      "outputs": []
    },
    {
      "cell_type": "code",
      "source": [
        "string_var = \"Programming\"\n",
        "first_var = 20\n",
        "float_var = 18.23\n",
        "bool_var = False\n",
        "\n",
        "\n",
        "print(string_var)\n",
        "print(first_var)\n",
        "print(float_var)\n",
        "print(bool_var)"
      ],
      "metadata": {
        "id": "DCIR-fNsISJx"
      },
      "execution_count": null,
      "outputs": []
    },
    {
      "cell_type": "code",
      "source": [
        "Var1 = 5\n",
        "var1 = 1\n",
        "print(var1)\n",
        "print(Var1)\n",
        "var2 = 2.5\n",
        "print(type(var2))\n",
        "var3 = \"\"\"Hello\"\"\"\n",
        "print(type(var3))\n",
        "var4 = True\n",
        "print(type(var4))"
      ],
      "metadata": {
        "id": "MARUmEdtIW2K"
      },
      "execution_count": null,
      "outputs": []
    },
    {
      "cell_type": "code",
      "source": [
        "first = \"105\"\n",
        "print(type(first))\n",
        "first = int(first)\n",
        "print(first)\n",
        "print(type(first))\n",
        "second = 90.8\n",
        "third = str(second)\n",
        "print(third)\n",
        "print(type(third))\n",
        "\n",
        "\n",
        "string = False\n",
        "string1 = str(string)\n",
        "print(string1)\n",
        "print(type(string1))\n",
        "\n",
        "integer = 6\n",
        "boolean = bool(integer)\n",
        "print(boolean)\n",
        "\n",
        "boolean = True\n",
        "integer = int(boolean)\n",
        "print(integer)\n",
        "\n",
        "x = int(input(\"Enter anything\"))\n",
        "#print(x + 5)\n",
        "#print(type(x))\n",
        "\n",
        "print('My name is Tahmas.')\n",
        "a = \"6\"\n",
        "\n",
        "x = \"Python is\"\n",
        "X = bool(x)\n",
        "print(X)\n",
        "print(type(X))\n",
        "\n",
        "x = \"Python is\"\n",
        "X = bool(x)\n",
        "print(X)\n",
        "print(type(X))"
      ],
      "metadata": {
        "id": "K7SmcruBIawy"
      },
      "execution_count": null,
      "outputs": []
    },
    {
      "cell_type": "code",
      "source": [
        "a = int(input(\"Enter username: \"))\n",
        "print(a)\n",
        "print(type(a))\n",
        "print(a+2)\n",
        "\n",
        "a = int(input(\"Enter username: \"))\n",
        "print(a)\n",
        "print(type(a))\n",
        "print(a+2)"
      ],
      "metadata": {
        "id": "ls46pHpsI5Sp"
      },
      "execution_count": null,
      "outputs": []
    },
    {
      "cell_type": "code",
      "source": [
        "print(8.0+4)\n",
        "\n",
        "#Addition\n",
        "a = int(input(\"Enter a number \"))\n",
        "b = 4\n",
        "c = a + b\n",
        "print(c)\n",
        "print(type(c))\n",
        "#print(3 + 7)\n"
      ],
      "metadata": {
        "id": "iOLttG6xJFxB"
      },
      "execution_count": null,
      "outputs": []
    },
    {
      "cell_type": "code",
      "source": [
        "#Subtraction\n",
        "a = 4\n",
        "b = 5.0\n",
        "\n",
        "print(a - b)\n",
        "print(type(a - b))\n",
        "\n",
        "]\n",
        "#Subtraction\n",
        "a = 4\n",
        "b = 5.0\n",
        "\n",
        "print(a - b)\n",
        "print(type(a - b))\n",
        "\n",
        "-1.0\n",
        "<class 'float'>"
      ],
      "metadata": {
        "id": "zQNqmBK8JR3B"
      },
      "execution_count": null,
      "outputs": []
    },
    {
      "cell_type": "code",
      "source": [
        "#Division\n",
        "x = 5\n",
        "y = 5\n",
        "z = x/y   #12/5\n",
        "print(z)\n",
        "print(type(z))\n",
        "var = int(z)\n",
        "print(var, type(var))\n",
        "\n",
        "1.0\n",
        "<class 'float'>\n",
        "1 <class 'int'>"
      ],
      "metadata": {
        "id": "jKG15o-pJYyO"
      },
      "execution_count": null,
      "outputs": []
    },
    {
      "cell_type": "code",
      "source": [
        "#Floor Division\n",
        "x = 5\n",
        "y = 5\n",
        "z = x//y\n",
        "print(z)\n",
        "print(type(z))\n",
        "\n",
        "\n",
        "#Floor Division\n",
        "x = 5\n",
        "y = 5\n",
        "z = x//y\n",
        "print(z)\n",
        "print(type(z))\n",
        "1\n",
        "<class 'int'>\n",
        "\n",
        "print(-3/2)"
      ],
      "metadata": {
        "id": "KFB9EEc1Jiwv"
      },
      "execution_count": null,
      "outputs": []
    },
    {
      "cell_type": "code",
      "source": [
        "#Exponentiation or Exponential\n",
        "x = 5\n",
        "y = 2   # 5 raised to power 2, 5*5\n",
        "print(x**y)  # 1st value = base, 2nd value = power\n",
        "print(type(x**y))\n",
        "\n",
        " ]\n",
        "#Exponentiation or Exponential\n",
        "x = 5\n",
        "y = 2   # 5 raised to power 2, 5*5\n",
        "print(x**y)  # 1st value = base, 2nd value = power\n",
        "print(type(x**y))\n",
        "25\n",
        "<class 'int'>\n"
      ],
      "metadata": {
        "id": "csN7XxgPJyKP"
      },
      "execution_count": null,
      "outputs": []
    },
    {
      "cell_type": "code",
      "source": [
        "#Modulus\n",
        "x = 5\n",
        "y = 5\n",
        "print(x%y)\n",
        "print(type(x%y))\n",
        "\n",
        "0\n",
        "<class 'int'>\n",
        "\n",
        "print(4 * 3 + 2 / 2)\n",
        "# BODMAS\n",
        "\n",
        "13.0"
      ],
      "metadata": {
        "id": "fKY_q2qdJ8oH"
      },
      "execution_count": null,
      "outputs": []
    },
    {
      "cell_type": "code",
      "source": [
        "#print('comment')\n",
        "a = \"\"\"mulitiline\n",
        "comment\n",
        "\"\"\n",
        "''\n",
        "lsdfh\"\"\"\n",
        "print(a)\n",
        "\n",
        "\n",
        "#print('comment')\n",
        "a = \"\"\"mulitiline\n",
        "comment\n",
        "\"\"\n",
        "''\n",
        "lsdfh\"\"\"\n",
        "print(a)\n",
        "mulitiline\n",
        "comment\n",
        "\"\"\n",
        "''\n",
        "lsdfh"
      ],
      "metadata": {
        "id": "Dgke-LklKVWY"
      },
      "execution_count": null,
      "outputs": []
    },
    {
      "cell_type": "code",
      "source": [
        "print(12 + 5 * (4 - 2))"
      ],
      "metadata": {
        "id": "TY3kSRRmKheH"
      },
      "execution_count": null,
      "outputs": []
    },
    {
      "cell_type": "code",
      "source": [
        "x = 5\n",
        "#x += 3    # x = x+3\n",
        "#x -= 3      # x = x - 3\n",
        "#x *= x       # x = 5*5\n",
        "#x /= 3        # x = x/3\n",
        "#x %= 3\n",
        "#x //= 3\n",
        "x **= 3       \n",
        "print(x)\n",
        "\n"
      ],
      "metadata": {
        "id": "-xr85PKEKkkH"
      },
      "execution_count": null,
      "outputs": []
    }
  ]
}